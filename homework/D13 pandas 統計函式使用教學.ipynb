{
 "cells": [
  {
   "cell_type": "code",
   "execution_count": 17,
   "id": "selective-eugene",
   "metadata": {},
   "outputs": [
    {
     "data": {
      "text/html": [
       "<div>\n",
       "<style scoped>\n",
       "    .dataframe tbody tr th:only-of-type {\n",
       "        vertical-align: middle;\n",
       "    }\n",
       "\n",
       "    .dataframe tbody tr th {\n",
       "        vertical-align: top;\n",
       "    }\n",
       "\n",
       "    .dataframe thead th {\n",
       "        text-align: right;\n",
       "    }\n",
       "</style>\n",
       "<table border=\"1\" class=\"dataframe\">\n",
       "  <thead>\n",
       "    <tr style=\"text-align: right;\">\n",
       "      <th></th>\n",
       "      <th>math_score</th>\n",
       "      <th>english_score</th>\n",
       "      <th>chinese_score</th>\n",
       "    </tr>\n",
       "    <tr>\n",
       "      <th>student_id</th>\n",
       "      <th></th>\n",
       "      <th></th>\n",
       "      <th></th>\n",
       "    </tr>\n",
       "  </thead>\n",
       "  <tbody>\n",
       "    <tr>\n",
       "      <th>1</th>\n",
       "      <td>56</td>\n",
       "      <td>66</td>\n",
       "      <td>70</td>\n",
       "    </tr>\n",
       "    <tr>\n",
       "      <th>2</th>\n",
       "      <td>90</td>\n",
       "      <td>45</td>\n",
       "      <td>34</td>\n",
       "    </tr>\n",
       "    <tr>\n",
       "      <th>3</th>\n",
       "      <td>45</td>\n",
       "      <td>32</td>\n",
       "      <td>55</td>\n",
       "    </tr>\n",
       "    <tr>\n",
       "      <th>4</th>\n",
       "      <td>70</td>\n",
       "      <td>77</td>\n",
       "      <td>89</td>\n",
       "    </tr>\n",
       "    <tr>\n",
       "      <th>5</th>\n",
       "      <td>56</td>\n",
       "      <td>80</td>\n",
       "      <td>70</td>\n",
       "    </tr>\n",
       "    <tr>\n",
       "      <th>6</th>\n",
       "      <td>60</td>\n",
       "      <td>54</td>\n",
       "      <td>55</td>\n",
       "    </tr>\n",
       "    <tr>\n",
       "      <th>7</th>\n",
       "      <td>45</td>\n",
       "      <td>70</td>\n",
       "      <td>79</td>\n",
       "    </tr>\n",
       "    <tr>\n",
       "      <th>8</th>\n",
       "      <td>34</td>\n",
       "      <td>77</td>\n",
       "      <td>76</td>\n",
       "    </tr>\n",
       "    <tr>\n",
       "      <th>9</th>\n",
       "      <td>25</td>\n",
       "      <td>87</td>\n",
       "      <td>60</td>\n",
       "    </tr>\n",
       "    <tr>\n",
       "      <th>10</th>\n",
       "      <td>88</td>\n",
       "      <td>40</td>\n",
       "      <td>43</td>\n",
       "    </tr>\n",
       "  </tbody>\n",
       "</table>\n",
       "</div>"
      ],
      "text/plain": [
       "            math_score  english_score  chinese_score\n",
       "student_id                                          \n",
       "1                   56             66             70\n",
       "2                   90             45             34\n",
       "3                   45             32             55\n",
       "4                   70             77             89\n",
       "5                   56             80             70\n",
       "6                   60             54             55\n",
       "7                   45             70             79\n",
       "8                   34             77             76\n",
       "9                   25             87             60\n",
       "10                  88             40             43"
      ]
     },
     "execution_count": 17,
     "metadata": {},
     "output_type": "execute_result"
    }
   ],
   "source": [
    "import pandas as pd\n",
    "score_df = pd.DataFrame([[1,56,66,70], \n",
    "              [2,90,45,34],\n",
    "              [3,45,32,55],\n",
    "              [4,70,77,89],\n",
    "              [5,56,80,70],\n",
    "              [6,60,54,55],\n",
    "              [7,45,70,79],\n",
    "              [8,34,77,76],\n",
    "              [9,25,87,60],\n",
    "              [10,88,40,43]],columns=['student_id','math_score','english_score','chinese_score'])\n",
    "score_df = score_df.set_index('student_id')\n",
    "score_df"
   ]
  },
  {
   "cell_type": "code",
   "execution_count": 25,
   "id": "particular-employee",
   "metadata": {},
   "outputs": [
    {
     "name": "stdout",
     "output_type": "stream",
     "text": [
      "student_id\n",
      "1     64.000000\n",
      "2     56.333333\n",
      "3     44.000000\n",
      "4     78.666667\n",
      "5     68.666667\n",
      "6     56.333333\n",
      "7     64.666667\n",
      "8     62.333333\n",
      "9     57.333333\n",
      "10    57.000000\n",
      "dtype: float64\n"
     ]
    }
   ],
   "source": [
    "#1.6號學生(student_id=6)3科平均分數為何?\n",
    "avg_score=score_df.mean(axis=1)\n",
    "print(avg_score)\n",
    "print(\"6號同學平均分數為56.333333\")"
   ]
  },
  {
   "cell_type": "code",
   "execution_count": 38,
   "id": "sized-passport",
   "metadata": {},
   "outputs": [
    {
     "name": "stdout",
     "output_type": "stream",
     "text": [
      "6號同學沒有贏過班上一半同學\n"
     ]
    }
   ],
   "source": [
    "#2. 6號學生3科平均分數是否有贏過班上一半的同學\n",
    "if avg_score[6]<avg_score.median():\n",
    "    print(\"6號同學沒有贏過班上一半同學\")\n",
    "else:\n",
    "    print(\"6號同學有贏過班上一半同學\")"
   ]
  },
  {
   "cell_type": "code",
   "execution_count": 53,
   "id": "choice-background",
   "metadata": {},
   "outputs": [
    {
     "name": "stdout",
     "output_type": "stream",
     "text": [
      "            math_score  english_score  chinese_score\n",
      "student_id                                          \n",
      "1            74.833148      81.240384      83.666003\n",
      "2            94.868330      67.082039      58.309519\n",
      "3            67.082039      56.568542      74.161985\n",
      "4            83.666003      87.749644      94.339811\n",
      "5            74.833148      89.442719      83.666003\n",
      "6            77.459667      73.484692      74.161985\n",
      "7            67.082039      83.666003      88.881944\n",
      "8            58.309519      87.749644      87.177979\n",
      "9            50.000000      93.273791      77.459667\n",
      "10           93.808315      63.245553      65.574385\n",
      "6號同學3科成績分別是 數學= 77.45966692414834 英文= 73.48469228349535 國文= 74.16198487095663\n"
     ]
    }
   ],
   "source": [
    "#由於班上同學成績不好，所以學校統一加分，加分方式為開根號乘以十，請問6號同學3科成績分別是?\n",
    "adjust_score=score_df.apply(lambda x : x**(0.5)*10)\n",
    "print(adjust_score)\n",
    "print(\"6號同學3科成績分別是 數學=\",adjust_score.iat[5,0],\"英文=\",adjust_score.iat[5,1],\"國文=\",adjust_score.iat[5,2])\n",
    "\n"
   ]
  },
  {
   "cell_type": "code",
   "execution_count": 58,
   "id": "parental-narrative",
   "metadata": {},
   "outputs": [
    {
     "name": "stdout",
     "output_type": "stream",
     "text": [
      "math_score       17.294221\n",
      "english_score    15.550301\n",
      "chinese_score    15.639928\n",
      "dtype: float64\n"
     ]
    }
   ],
   "source": [
    "#承上題，加分後各科班平均變多少\n",
    "avg_score_2=score_df.mean()\n",
    "avg_adjust_score=adjust_score.mean()\n",
    "dif_score=avg_adjust_score-avg_score_2\n",
    "print(dif_score)"
   ]
  }
 ],
 "metadata": {
  "kernelspec": {
   "display_name": "Python 3",
   "language": "python",
   "name": "python3"
  },
  "language_info": {
   "codemirror_mode": {
    "name": "ipython",
    "version": 3
   },
   "file_extension": ".py",
   "mimetype": "text/x-python",
   "name": "python",
   "nbconvert_exporter": "python",
   "pygments_lexer": "ipython3",
   "version": "3.8.5"
  }
 },
 "nbformat": 4,
 "nbformat_minor": 5
}
