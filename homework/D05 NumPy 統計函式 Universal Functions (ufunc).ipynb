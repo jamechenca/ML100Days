{
 "cells": [
  {
   "cell_type": "code",
   "execution_count": 4,
   "id": "driving-edinburgh",
   "metadata": {},
   "outputs": [],
   "source": [
    "import numpy as np"
   ]
  },
  {
   "cell_type": "code",
   "execution_count": 19,
   "id": "widespread-protein",
   "metadata": {},
   "outputs": [],
   "source": [
    "english_score = np.array([55,89,76,65,48,70])\n",
    "math_score = np.array([60,85,60,68,np.nan,60])\n",
    "chinese_score = np.array([65,90,82,72,66,77])"
   ]
  },
  {
   "cell_type": "code",
   "execution_count": 20,
   "id": "sixth-andorra",
   "metadata": {},
   "outputs": [
    {
     "name": "stdout",
     "output_type": "stream",
     "text": [
      "english:\n",
      "english_avg= 67.16666666666667\n",
      "english_max= 89\n",
      "english_min= 48\n",
      "english_std= 13.433995020924426\n",
      "math:\n",
      "math_avg= 66.6\n",
      "math_max= 85.0\n",
      "math_min= 60.0\n",
      "math_std= 9.707728879609279\n",
      "chinese:\n",
      "chinese_avg= 75.33333333333333\n",
      "chinese_max= 90\n",
      "chinese_min= 65\n",
      "chinese_std= 8.825468196582484\n"
     ]
    }
   ],
   "source": [
    "#1. 請計算各科成績平均、最大值、最小值、標準差，其中數學缺一筆資料可忽略?\n",
    "print(\"english:\")\n",
    "english_avg=np.mean(english_score)\n",
    "print(\"english_avg=\",english_avg)\n",
    "english_max=np.nanmax(english_score)\n",
    "print(\"english_max=\",english_max)\n",
    "english_min=np.nanmin(english_score)\n",
    "print(\"english_min=\",english_min)\n",
    "english_std=np.nanstd(english_score)\n",
    "print(\"english_std=\",english_std)\n",
    "print(\"math:\")\n",
    "math_avg=np.nanmean(math_score)\n",
    "print(\"math_avg=\",math_avg)\n",
    "math_max=np.nanmax(math_score)\n",
    "print(\"math_max=\",math_max)\n",
    "math_min=np.nanmin(math_score)\n",
    "print(\"math_min=\",math_min)\n",
    "math_std=np.nanstd(math_score)\n",
    "print(\"math_std=\",math_std)\n",
    "print(\"chinese:\")\n",
    "chinese_avg=np.nanmean(chinese_score)\n",
    "print(\"chinese_avg=\",chinese_avg)\n",
    "chinese_max=np.nanmax(chinese_score)\n",
    "print(\"chinese_max=\",chinese_max)\n",
    "chinese_min=np.nanmin(chinese_score)\n",
    "print(\"chinese_min=\",chinese_min)\n",
    "chinese_std=np.nanstd(chinese_score)\n",
    "print(\"chinese_std=\",chinese_std)"
   ]
  },
  {
   "cell_type": "code",
   "execution_count": 22,
   "id": "chinese-powell",
   "metadata": {},
   "outputs": [
    {
     "name": "stdout",
     "output_type": "stream",
     "text": [
      "math:\n",
      "math_avg= 64.66666666666667\n",
      "math_max= 85.0\n",
      "math_min= 55.0\n",
      "math_std= 9.860132971832694\n"
     ]
    }
   ],
   "source": [
    "#2. 第五位同學補考數學後成績為55，請計算補考後數學成績平均、最大值、最小值、標準差?\n",
    "math_score[4]=55\n",
    "print(\"math:\")\n",
    "math_avg=np.nanmean(math_score)\n",
    "print(\"math_avg=\",math_avg)\n",
    "math_max=np.nanmax(math_score)\n",
    "print(\"math_max=\",math_max)\n",
    "math_min=np.nanmin(math_score)\n",
    "print(\"math_min=\",math_min)\n",
    "math_std=np.nanstd(math_score)\n",
    "print(\"math_std=\",math_std)"
   ]
  },
  {
   "cell_type": "code",
   "execution_count": 28,
   "id": "critical-encounter",
   "metadata": {},
   "outputs": [
    {
     "name": "stdout",
     "output_type": "stream",
     "text": [
      "[[1.         0.74056803]\n",
      " [0.74056803 1.        ]]\n",
      "[[1.         0.97792828]\n",
      " [0.97792828 1.        ]]\n",
      "英文與國文相關係數最高\n"
     ]
    }
   ],
   "source": [
    "#3. 用補考後資料找出與國文成績相關係數最高的學科?\n",
    "a=np.corrcoef(chinese_score,math_score)\n",
    "b=np.corrcoef(chinese_score,english_score)\n",
    "print(a)\n",
    "print(b)\n",
    "print(\"英文與國文相關係數最高\")"
   ]
  }
 ],
 "metadata": {
  "kernelspec": {
   "display_name": "Python 3",
   "language": "python",
   "name": "python3"
  },
  "language_info": {
   "codemirror_mode": {
    "name": "ipython",
    "version": 3
   },
   "file_extension": ".py",
   "mimetype": "text/x-python",
   "name": "python",
   "nbconvert_exporter": "python",
   "pygments_lexer": "ipython3",
   "version": "3.8.5"
  }
 },
 "nbformat": 4,
 "nbformat_minor": 5
}
